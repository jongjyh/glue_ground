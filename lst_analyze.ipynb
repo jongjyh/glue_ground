{
 "cells": [
  {
   "cell_type": "code",
   "execution_count": 25,
   "metadata": {},
   "outputs": [
    {
     "name": "stdout",
     "output_type": "stream",
     "text": [
      "memory: 4M model + 1M input = 5M\n",
      "reserve w(x)_0 activations, 1M\n",
      "6M\n",
      "reserve w(x)_1 activations, 1M\n",
      "7M\n",
      "reserve w(x)_2 activations, 1M\n",
      "8M\n",
      "reserve w(x)_3 activations, 1M\n",
      "9M\n",
      "reserve w(x)_4 activations, 1M\n",
      "10M\n"
     ]
    }
   ],
   "source": [
    "import torch \n",
    "\n",
    "import torch.cuda as cuda\n",
    "\n",
    "x = torch.randn((256,1024)).cuda()\n",
    "w = torch.nn.Linear(1024,1024,bias=False,device='cuda')\n",
    "print(f\"memory: 4M model + 1M input = {cuda.memory_allocated()//2**20}M\")\n",
    "for i in range(5):\n",
    "    x = w(x)\n",
    "    print(f\"reserve w(x)_{i} activations, 1M\")\n",
    "    print(f\"{cuda.memory_allocated()//2**20}M\")\n",
    "\n",
    "del x"
   ]
  },
  {
   "cell_type": "code",
   "execution_count": null,
   "metadata": {},
   "outputs": [],
   "source": [
    "\n",
    "import torch\n",
    "\n",
    "import torch.cuda as cuda\n",
    "\n",
    "x = torch.randn((256,1024)).cuda()\n",
    "w = torch.nn.Linear(1024,1024,bias=False,device='cuda')\n",
    "print(f\"memory: 4M model + 1M input = {cuda.memory_allocated()//2**20}M\")\n",
    "for i in range(5):\n",
    "    x = w(x)\n",
    "    print(f\"reserve w(x)_{i} activations, 1M\")\n",
    "    print(f\"{cuda.memory_allocated()//2**20}M\")\n",
    "\n",
    "del x"
   ]
  },
  {
   "cell_type": "code",
   "execution_count": 1,
   "metadata": {},
   "outputs": [
    {
     "name": "stderr",
     "output_type": "stream",
     "text": [
      "/home/czz/miniconda3/lib/python3.8/site-packages/tqdm/auto.py:22: TqdmWarning: IProgress not found. Please update jupyter and ipywidgets. See https://ipywidgets.readthedocs.io/en/stable/user_install.html\n",
      "  from .autonotebook import tqdm as notebook_tqdm\n"
     ]
    },
    {
     "name": "stdout",
     "output_type": "stream",
     "text": [
      "memory: 4M model + 1M input = 104M\n",
      "105M\n",
      "109M\n",
      "114M\n",
      "114M\n",
      "120M\n",
      "120M\n",
      "126M\n",
      "126M\n",
      "132M\n",
      "132M\n"
     ]
    }
   ],
   "source": [
    "import torch\n",
    "\n",
    "import torch.cuda as cuda\n",
    "small_dim , large_dim = 1024,4096\n",
    "x = torch.randn((256,4096)).cuda()\n",
    "w1 = torch.nn.Linear(small_dim,small_dim,bias=False,device='cuda')\n",
    "w2 = torch.nn.Linear(large_dim,large_dim,bias=False,device='cuda')\n",
    "up_w = torch.nn.Linear(small_dim,large_dim,bias=False,device='cuda')\n",
    "down_w = torch.nn.Linear(large_dim,small_dim,bias=False,device='cuda')\n",
    "print(f\"memory: 4M model + 1M input = {cuda.memory_allocated()//2**20}M\")\n",
    "\n",
    "# freeze the large model\n",
    "# w1.weight.requires_grad_(False)\n",
    "w2.weight.requires_grad_(False)\n",
    "\n",
    "hidden_states_small = down_w(x)\n",
    "hidden_states_large = x\n",
    "for i in range(5):\n",
    "    print(f\"{cuda.memory_allocated()//2**20}M\")\n",
    "    hidden_states_large = w2(hidden_states_large)\n",
    "    print(f\"{cuda.memory_allocated()//2**20}M\")\n",
    "    # infusion from large\n",
    "    hidden_states_small = .5 * down_w(hidden_states_large) + .5 * hidden_states_small\n",
    "    # hidden_states_small = .5 * hidden_states_small + .5 * hidden_states_small\n",
    "    hidden_states_small = w1(hidden_states_small)\n",
    "    # infusion from small\n",
    "    hidden_states_large = .5 * up_w(hidden_states_small) + .5 * hidden_states_large\n",
    "    \n",
    "    # print(f\"reserve w(x)_{i} activations, 1M\")\n",
    "    # print(f\"{cuda.memory_allocated()//2**20}M\")\n",
    "\n",
    "del x"
   ]
  }
 ],
 "metadata": {
  "kernelspec": {
   "display_name": "Python 3.8.13",
   "language": "python",
   "name": "python3"
  },
  "language_info": {
   "codemirror_mode": {
    "name": "ipython",
    "version": 3
   },
   "file_extension": ".py",
   "mimetype": "text/x-python",
   "name": "python",
   "nbconvert_exporter": "python",
   "pygments_lexer": "ipython3",
   "version": "3.8.13"
  },
  "orig_nbformat": 4,
  "vscode": {
   "interpreter": {
    "hash": "6481f9e3af3deb4dfc2234d5c296f5d5530dec9ffe7f97050893f1d991ddfa7c"
   }
  }
 },
 "nbformat": 4,
 "nbformat_minor": 2
}
